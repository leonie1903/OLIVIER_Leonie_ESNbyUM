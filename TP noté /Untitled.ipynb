{
 "cells": [
  {
   "cell_type": "markdown",
   "id": "8166d81e-e5e6-46f5-b7c3-1e0aebffff86",
   "metadata": {},
   "source": [
    "# TP noté "
   ]
  },
  {
   "cell_type": "code",
   "execution_count": 3,
   "id": "30d23419-ec70-45be-8034-a3e02e2d8efe",
   "metadata": {
    "tags": []
   },
   "outputs": [
    {
     "name": "stdout",
     "output_type": "stream",
     "text": [
      "\n",
      "Les articles ont été sauvegardés dans le fichier articles_pubmed_stroke.csv.\n"
     ]
    }
   ],
   "source": [
    "import requests\n",
    "import pandas as pd\n",
    "\n",
    "# Fonction pour récupérer les articles de PubMed\n",
    "def get_pubmed_articles(keyword, max_results):\n",
    "    base_url = \"https://eutils.ncbi.nlm.nih.gov/entrez/eutils/esearch.fcgi\"\n",
    "    params = {\n",
    "        \"db\": \"pubmed\",\n",
    "        \"term\": keyword,\n",
    "        \"retmax\": max_results,\n",
    "        \"retmode\": \"json\",\n",
    "    }\n",
    "    response = requests.get(base_url, params=params)\n",
    "    data = response.json()\n",
    "    return data.get(\"esearchresult\", {}).get(\"idlist\", [])\n",
    "\n",
    "# Fonction pour obtenir les détails des articles, y compris les résumés\n",
    "def get_article_details(article_ids):\n",
    "    details_url = \"https://eutils.ncbi.nlm.nih.gov/entrez/eutils/efetch.fcgi\"\n",
    "    details_params = {\n",
    "        \"db\": \"pubmed\",\n",
    "        \"id\": \",\".join(article_ids),\n",
    "        \"retmode\": \"xml\",\n",
    "        \"rettype\": \"abstract\",\n",
    "    }\n",
    "    response = requests.get(details_url, params=details_params)\n",
    "    articles = []\n",
    "    if response.status_code == 200:\n",
    "        from xml.etree import ElementTree as ET\n",
    "        root = ET.fromstring(response.content)\n",
    "        for article in root.findall(\".//PubmedArticle\"):\n",
    "            title = article.findtext(\".//ArticleTitle\", default=\"Titre non disponible\")\n",
    "            abstract = article.findtext(\".//AbstractText\", default=\"Résumé non disponible\")\n",
    "            journal = article.findtext(\".//Journal/Title\", default=\"Journal non disponible\")\n",
    "            pubdate = article.findtext(\".//PubDate/Year\", default=\"Date non disponible\")\n",
    "            article_id = article.findtext(\".//ArticleId[@IdType='pubmed']\", default=\"ID non disponible\")\n",
    "            articles.append({\n",
    "                \"Titre\": title,\n",
    "                \"Résumé\": abstract,\n",
    "                \"Journal\": journal,\n",
    "                \"Date de publication\": pubdate,\n",
    "                \"URL PubMed\": f\"https://pubmed.ncbi.nlm.nih.gov/{article_id}\"\n",
    "            })\n",
    "    return articles\n",
    "\n",
    "# Récupérer les articles et leurs détails\n",
    "keyword = \"stroke\"\n",
    "max_results = 10\n",
    "article_ids = get_pubmed_articles(keyword, max_results)\n",
    "articles = get_article_details(article_ids)\n",
    "\n",
    "# Sauvegarder les résultats dans un fichier CSV\n",
    "df = pd.DataFrame(articles)\n",
    "df.to_csv(\"articles_pubmed_stroke.csv\", index=False, encoding=\"utf-8\")\n",
    "print(f\"\\nLes articles ont été sauvegardés dans le fichier articles_pubmed_stroke.csv.\")"
   ]
  }
 ],
 "metadata": {
  "kernelspec": {
   "display_name": "Python 3 (ipykernel)",
   "language": "python",
   "name": "python3"
  },
  "language_info": {
   "codemirror_mode": {
    "name": "ipython",
    "version": 3
   },
   "file_extension": ".py",
   "mimetype": "text/x-python",
   "name": "python",
   "nbconvert_exporter": "python",
   "pygments_lexer": "ipython3",
   "version": "3.11.4"
  }
 },
 "nbformat": 4,
 "nbformat_minor": 5
}
